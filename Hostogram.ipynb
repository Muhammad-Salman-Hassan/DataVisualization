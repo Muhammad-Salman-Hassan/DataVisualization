{
 "cells": [
  {
   "cell_type": "code",
   "execution_count": 1,
   "metadata": {},
   "outputs": [],
   "source": [
    "import pandas as pd\n",
    "import numpy as np\n",
    "import matplotlib.pyplot as plt\n",
    "import seaborn as sbn"
   ]
  },
  {
   "cell_type": "code",
   "execution_count": 3,
   "metadata": {},
   "outputs": [
    {
     "data": {
      "text/html": [
       "<div>\n",
       "<style scoped>\n",
       "    .dataframe tbody tr th:only-of-type {\n",
       "        vertical-align: middle;\n",
       "    }\n",
       "\n",
       "    .dataframe tbody tr th {\n",
       "        vertical-align: top;\n",
       "    }\n",
       "\n",
       "    .dataframe thead th {\n",
       "        text-align: right;\n",
       "    }\n",
       "</style>\n",
       "<table border=\"1\" class=\"dataframe\">\n",
       "  <thead>\n",
       "    <tr style=\"text-align: right;\">\n",
       "      <th></th>\n",
       "      <th>Row ID</th>\n",
       "      <th>Order ID</th>\n",
       "      <th>Order Date</th>\n",
       "      <th>Order Priority</th>\n",
       "      <th>Order Quantity</th>\n",
       "      <th>Sales</th>\n",
       "      <th>Discount</th>\n",
       "      <th>Ship Mode</th>\n",
       "      <th>Profit</th>\n",
       "      <th>Unit Price</th>\n",
       "      <th>...</th>\n",
       "      <th>Customer Name</th>\n",
       "      <th>Province</th>\n",
       "      <th>Region</th>\n",
       "      <th>Customer Segment</th>\n",
       "      <th>Product Category</th>\n",
       "      <th>Product Sub-Category</th>\n",
       "      <th>Product Name</th>\n",
       "      <th>Product Container</th>\n",
       "      <th>Product Base Margin</th>\n",
       "      <th>Ship Date</th>\n",
       "    </tr>\n",
       "  </thead>\n",
       "  <tbody>\n",
       "    <tr>\n",
       "      <th>0</th>\n",
       "      <td>1</td>\n",
       "      <td>3</td>\n",
       "      <td>2010-10-13</td>\n",
       "      <td>Low</td>\n",
       "      <td>6</td>\n",
       "      <td>261.5400</td>\n",
       "      <td>0.04</td>\n",
       "      <td>Regular Air</td>\n",
       "      <td>-213.250</td>\n",
       "      <td>38.94</td>\n",
       "      <td>...</td>\n",
       "      <td>Muhammed MacIntyre</td>\n",
       "      <td>Nunavut</td>\n",
       "      <td>Nunavut</td>\n",
       "      <td>Small Business</td>\n",
       "      <td>Office Supplies</td>\n",
       "      <td>Storage &amp; Organization</td>\n",
       "      <td>Eldon Base for stackable storage shelf, platinum</td>\n",
       "      <td>Large Box</td>\n",
       "      <td>0.80</td>\n",
       "      <td>2010-10-20</td>\n",
       "    </tr>\n",
       "    <tr>\n",
       "      <th>1</th>\n",
       "      <td>2</td>\n",
       "      <td>6</td>\n",
       "      <td>2012-02-20</td>\n",
       "      <td>Not Specified</td>\n",
       "      <td>2</td>\n",
       "      <td>6.9300</td>\n",
       "      <td>0.01</td>\n",
       "      <td>Regular Air</td>\n",
       "      <td>-4.640</td>\n",
       "      <td>2.08</td>\n",
       "      <td>...</td>\n",
       "      <td>Ruben Dartt</td>\n",
       "      <td>Alberta</td>\n",
       "      <td>West</td>\n",
       "      <td>Corporate</td>\n",
       "      <td>Office Supplies</td>\n",
       "      <td>Scissors, Rulers and Trimmers</td>\n",
       "      <td>Kleencut® Forged Office Shears by Acme United ...</td>\n",
       "      <td>Small Pack</td>\n",
       "      <td>0.55</td>\n",
       "      <td>2012-02-21</td>\n",
       "    </tr>\n",
       "    <tr>\n",
       "      <th>2</th>\n",
       "      <td>3</td>\n",
       "      <td>32</td>\n",
       "      <td>2011-07-15</td>\n",
       "      <td>High</td>\n",
       "      <td>26</td>\n",
       "      <td>2808.0800</td>\n",
       "      <td>0.07</td>\n",
       "      <td>Regular Air</td>\n",
       "      <td>1054.820</td>\n",
       "      <td>107.53</td>\n",
       "      <td>...</td>\n",
       "      <td>Liz Pelletier</td>\n",
       "      <td>Alberta</td>\n",
       "      <td>West</td>\n",
       "      <td>Corporate</td>\n",
       "      <td>Furniture</td>\n",
       "      <td>Office Furnishings</td>\n",
       "      <td>Tenex Contemporary Contur Chairmats for Low an...</td>\n",
       "      <td>Medium Box</td>\n",
       "      <td>0.65</td>\n",
       "      <td>2011-07-17</td>\n",
       "    </tr>\n",
       "    <tr>\n",
       "      <th>3</th>\n",
       "      <td>4</td>\n",
       "      <td>32</td>\n",
       "      <td>2011-07-15</td>\n",
       "      <td>High</td>\n",
       "      <td>24</td>\n",
       "      <td>1761.4000</td>\n",
       "      <td>0.09</td>\n",
       "      <td>Delivery Truck</td>\n",
       "      <td>-1748.560</td>\n",
       "      <td>70.89</td>\n",
       "      <td>...</td>\n",
       "      <td>Liz Pelletier</td>\n",
       "      <td>Alberta</td>\n",
       "      <td>West</td>\n",
       "      <td>Corporate</td>\n",
       "      <td>Furniture</td>\n",
       "      <td>Tables</td>\n",
       "      <td>KI Conference Tables</td>\n",
       "      <td>Jumbo Box</td>\n",
       "      <td>0.72</td>\n",
       "      <td>2011-07-16</td>\n",
       "    </tr>\n",
       "    <tr>\n",
       "      <th>4</th>\n",
       "      <td>5</td>\n",
       "      <td>32</td>\n",
       "      <td>2011-07-15</td>\n",
       "      <td>High</td>\n",
       "      <td>23</td>\n",
       "      <td>160.2335</td>\n",
       "      <td>0.04</td>\n",
       "      <td>Regular Air</td>\n",
       "      <td>-85.129</td>\n",
       "      <td>7.99</td>\n",
       "      <td>...</td>\n",
       "      <td>Liz Pelletier</td>\n",
       "      <td>Alberta</td>\n",
       "      <td>West</td>\n",
       "      <td>Corporate</td>\n",
       "      <td>Technology</td>\n",
       "      <td>Telephones and Communication</td>\n",
       "      <td>Bell Sonecor JB700 Caller ID</td>\n",
       "      <td>Medium Box</td>\n",
       "      <td>0.60</td>\n",
       "      <td>2011-07-17</td>\n",
       "    </tr>\n",
       "  </tbody>\n",
       "</table>\n",
       "<p>5 rows × 21 columns</p>\n",
       "</div>"
      ],
      "text/plain": [
       "   Row ID  Order ID Order Date Order Priority  Order Quantity      Sales  \\\n",
       "0       1         3 2010-10-13            Low               6   261.5400   \n",
       "1       2         6 2012-02-20  Not Specified               2     6.9300   \n",
       "2       3        32 2011-07-15           High              26  2808.0800   \n",
       "3       4        32 2011-07-15           High              24  1761.4000   \n",
       "4       5        32 2011-07-15           High              23   160.2335   \n",
       "\n",
       "   Discount       Ship Mode    Profit  Unit Price  ...       Customer Name  \\\n",
       "0      0.04     Regular Air  -213.250       38.94  ...  Muhammed MacIntyre   \n",
       "1      0.01     Regular Air    -4.640        2.08  ...         Ruben Dartt   \n",
       "2      0.07     Regular Air  1054.820      107.53  ...       Liz Pelletier   \n",
       "3      0.09  Delivery Truck -1748.560       70.89  ...       Liz Pelletier   \n",
       "4      0.04     Regular Air   -85.129        7.99  ...       Liz Pelletier   \n",
       "\n",
       "  Province   Region Customer Segment Product Category  \\\n",
       "0  Nunavut  Nunavut   Small Business  Office Supplies   \n",
       "1  Alberta     West        Corporate  Office Supplies   \n",
       "2  Alberta     West        Corporate        Furniture   \n",
       "3  Alberta     West        Corporate        Furniture   \n",
       "4  Alberta     West        Corporate       Technology   \n",
       "\n",
       "            Product Sub-Category  \\\n",
       "0         Storage & Organization   \n",
       "1  Scissors, Rulers and Trimmers   \n",
       "2             Office Furnishings   \n",
       "3                         Tables   \n",
       "4   Telephones and Communication   \n",
       "\n",
       "                                        Product Name Product Container  \\\n",
       "0   Eldon Base for stackable storage shelf, platinum         Large Box   \n",
       "1  Kleencut® Forged Office Shears by Acme United ...        Small Pack   \n",
       "2  Tenex Contemporary Contur Chairmats for Low an...        Medium Box   \n",
       "3                               KI Conference Tables         Jumbo Box   \n",
       "4                       Bell Sonecor JB700 Caller ID        Medium Box   \n",
       "\n",
       "  Product Base Margin  Ship Date  \n",
       "0                0.80 2010-10-20  \n",
       "1                0.55 2012-02-21  \n",
       "2                0.65 2011-07-17  \n",
       "3                0.72 2011-07-16  \n",
       "4                0.60 2011-07-17  \n",
       "\n",
       "[5 rows x 21 columns]"
      ]
     },
     "execution_count": 3,
     "metadata": {},
     "output_type": "execute_result"
    }
   ],
   "source": [
    "df=pd.read_excel('Sample - Superstore Sales.xls')\n",
    "df.head()"
   ]
  },
  {
   "cell_type": "code",
   "execution_count": 4,
   "metadata": {},
   "outputs": [
    {
     "data": {
      "text/plain": [
       "888         2.24\n",
       "3552        3.20\n",
       "3262        3.23\n",
       "6986        3.41\n",
       "1313        3.42\n",
       "          ...   \n",
       "4628    29884.60\n",
       "2025    33367.85\n",
       "4263    41343.21\n",
       "451     45923.76\n",
       "4189    89061.05\n",
       "Name: Sales, Length: 8390, dtype: float64"
      ]
     },
     "execution_count": 4,
     "metadata": {},
     "output_type": "execute_result"
    }
   ],
   "source": [
    "df.Sales.sort_values()"
   ]
  },
  {
   "cell_type": "code",
   "execution_count": 45,
   "metadata": {},
   "outputs": [],
   "source": [
    "bins=[5,10,15,20,25,30,35,40,45,50]"
   ]
  },
  {
   "cell_type": "code",
   "execution_count": 51,
   "metadata": {},
   "outputs": [
    {
     "data": {
      "text/plain": [
       "<seaborn.axisgrid.FacetGrid at 0x197c82e5100>"
      ]
     },
     "execution_count": 51,
     "metadata": {},
     "output_type": "execute_result"
    },
    {
     "data": {
      "image/png": "[encoded data removed]",
      "text/plain": [
       "<Figure size 360x360 with 1 Axes>"
      ]
     },
     "metadata": {
      "needs_background": "light"
     },
     "output_type": "display_data"
    }
   ],
   "source": [
    "sbn.displot(df.Sales,bins=bins)"
   ]
  },
  {
   "cell_type": "code",
   "execution_count": null,
   "metadata": {},
   "outputs": [],
   "source": []
  },
  {
   "cell_type": "code",
   "execution_count": null,
   "metadata": {},
   "outputs": [],
   "source": []
  },
  {
   "cell_type": "code",
   "execution_count": null,
   "metadata": {},
   "outputs": [],
   "source": []
  }
 ],
 "metadata": {
  "kernelspec": {
   "display_name": "Python 3",
   "language": "python",
   "name": "python3"
  },
  "language_info": {
   "codemirror_mode": {
    "name": "ipython",
    "version": 3
   },
   "file_extension": ".py",
   "mimetype": "text/x-python",
   "name": "python",
   "nbconvert_exporter": "python",
   "pygments_lexer": "ipython3",
   "version": "3.8.5"
  }
 },
 "nbformat": 4,
 "nbformat_minor": 4
}
